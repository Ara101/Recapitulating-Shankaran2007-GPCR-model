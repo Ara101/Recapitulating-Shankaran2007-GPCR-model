{
 "cells": [
  {
   "attachments": {},
   "cell_type": "markdown",
   "metadata": {},
   "source": [
    "Recapitulating the model: Receptor downregulation and desensitization enhance the information processing ability of signalling receptors"
   ]
  },
  {
   "cell_type": "code",
   "execution_count": 1,
   "metadata": {},
   "outputs": [
    {
     "ename": "ModuleNotFoundError",
     "evalue": "No module named 'tellurium'",
     "output_type": "error",
     "traceback": [
      "\u001b[1;31m---------------------------------------------------------------------------\u001b[0m",
      "\u001b[1;31mModuleNotFoundError\u001b[0m                       Traceback (most recent call last)",
      "Cell \u001b[1;32mIn[1], line 4\u001b[0m\n\u001b[0;32m      2\u001b[0m \u001b[39mimport\u001b[39;00m \u001b[39mnumpy\u001b[39;00m \u001b[39mas\u001b[39;00m \u001b[39mnp\u001b[39;00m\n\u001b[0;32m      3\u001b[0m \u001b[39mimport\u001b[39;00m \u001b[39mpandas\u001b[39;00m \u001b[39mas\u001b[39;00m \u001b[39mpd\u001b[39;00m\n\u001b[1;32m----> 4\u001b[0m \u001b[39mimport\u001b[39;00m \u001b[39mtellurium\u001b[39;00m \u001b[39mas\u001b[39;00m \u001b[39mte\u001b[39;00m\n",
      "\u001b[1;31mModuleNotFoundError\u001b[0m: No module named 'tellurium'"
     ]
    }
   ],
   "source": [
    "import matplotlib.pyplot as plt\n",
    "import numpy as np\n",
    "import pandas as pd\n",
    "import tellurium as te"
   ]
  },
  {
   "attachments": {},
   "cell_type": "markdown",
   "metadata": {},
   "source": [
    "The intial EGFR Model"
   ]
  },
  {
   "cell_type": "code",
   "execution_count": null,
   "metadata": {},
   "outputs": [
    {
     "ename": "NameError",
     "evalue": "name 'te' is not defined",
     "output_type": "error",
     "traceback": [
      "\u001b[1;31m---------------------------------------------------------------------------\u001b[0m",
      "\u001b[1;31mNameError\u001b[0m                                 Traceback (most recent call last)",
      "Cell \u001b[1;32mIn[3], line 2\u001b[0m\n\u001b[0;32m      1\u001b[0m \u001b[39m# seperate ligand and receptor entire EGFR model\u001b[39;00m\n\u001b[1;32m----> 2\u001b[0m shankaran_model_EGFR \u001b[39m=\u001b[39m te\u001b[39m.\u001b[39mloada(\u001b[39m\"\"\"\u001b[39m\n\u001b[0;32m      3\u001b[0m \u001b[39mLigand + Surface_receptor -> Surface_complex; Ligand*Surface_receptor*kon\u001b[39m\n\u001b[0;32m      4\u001b[0m \u001b[39mSurface_complex -> Ligand + Surface_receptor; Surface_complex*koff\u001b[39m\n\u001b[0;32m      5\u001b[0m \n\u001b[0;32m      6\u001b[0m \u001b[39mInteralized_receptor -> Surface_receptor; Interalized_receptor*Vr\u001b[39m\n\u001b[0;32m      7\u001b[0m \u001b[39mSurface_receptor -> Interalized_receptor; Surface_receptor*kt\u001b[39m\n\u001b[0;32m      8\u001b[0m \n\u001b[0;32m      9\u001b[0m \u001b[39mSurface_complex -> Internalized_complex; Surface_complex*ke\u001b[39m\n\u001b[0;32m     10\u001b[0m \n\u001b[0;32m     11\u001b[0m \u001b[39mLigand  = 0.01*Kd + 5961\u001b[39m\n\u001b[0;32m     12\u001b[0m \u001b[39mSurface_receptor = Rt\u001b[39m\n\u001b[0;32m     13\u001b[0m \u001b[39mSurface_complex = 0\u001b[39m\n\u001b[0;32m     14\u001b[0m \n\u001b[0;32m     15\u001b[0m \u001b[39mkon = 0.097\u001b[39m\n\u001b[0;32m     16\u001b[0m \u001b[39mkoff = 0.24\u001b[39m\n\u001b[0;32m     17\u001b[0m \u001b[39mKd = koff/kon\u001b[39m\n\u001b[0;32m     18\u001b[0m \n\u001b[0;32m     19\u001b[0m \u001b[39mkt = 0.02\u001b[39m\n\u001b[0;32m     20\u001b[0m \u001b[39mke = 0.15\u001b[39m\n\u001b[0;32m     21\u001b[0m \u001b[39mVr = kt*Rt \u001b[39m\n\u001b[0;32m     22\u001b[0m \n\u001b[0;32m     23\u001b[0m \u001b[39mRt = 200000\u001b[39m\n\u001b[0;32m     24\u001b[0m \u001b[39mV = 0.0000000004\u001b[39m\n\u001b[0;32m     25\u001b[0m \u001b[39m\"\"\"\u001b[39m)\n\u001b[0;32m     26\u001b[0m shankaran_model_EGFR\u001b[39m.\u001b[39mreset()\n\u001b[0;32m     27\u001b[0m m \u001b[39m=\u001b[39m shankaran_model_EGFR\u001b[39m.\u001b[39msimulate(\u001b[39m0\u001b[39m, \u001b[39m1000\u001b[39m, \u001b[39m100\u001b[39m)\n",
      "\u001b[1;31mNameError\u001b[0m: name 'te' is not defined"
     ]
    }
   ],
   "source": [
    "# seperate ligand and receptor entire EGFR model\n",
    "shankaran_model_EGFR = te.loada(\"\"\"\n",
    "Ligand + Surface_receptor -> Surface_complex; Ligand*Surface_receptor*kon\n",
    "Surface_complex -> Ligand + Surface_receptor; Surface_complex*koff\n",
    "\n",
    "Interalized_receptor -> Surface_receptor; Interalized_receptor*Vr\n",
    "Surface_receptor -> Interalized_receptor; Surface_receptor*kt\n",
    "\n",
    "Surface_complex -> Internalized_complex; Surface_complex*ke\n",
    "\n",
    "Ligand  = 0.01*Kd + 5961\n",
    "Surface_receptor = Rt\n",
    "Surface_complex = 0\n",
    "\n",
    "kon = 0.097\n",
    "koff = 0.24\n",
    "Kd = koff/kon\n",
    "\n",
    "kt = 0.02\n",
    "ke = 0.15\n",
    "Vr = kt*Rt \n",
    "\n",
    "Rt = 200000\n",
    "V = 0.0000000004\n",
    "\"\"\")\n",
    "shankaran_model_EGFR.reset()\n",
    "m = shankaran_model_EGFR.simulate(0, 1000, 100)\n",
    "shankaran_model_EGFR.plot()\n",
    "\n",
    "# change a species value to recreate the graph\n",
    "shankaran_model_EGFR.resetAll()\n",
    "count = 0\n",
    "for i in [1,2,5,7.6,10,20]: \n",
    "    shankaran_model_EGFR.resetToOrigin()\n",
    "    shankaran_model_EGFR.ke = 0.15*i\n",
    "    result = shankaran_model_EGFR.simulate(0, 50, 100,['time','Surface_complex'])\n",
    "    plt.plot(result[:,0],result[:,1], label = '%s ke = '%i) \n",
    "    count += 1\n",
    "\n",
    "plt.legend()\n",
    "plt.show()\n",
    "print(count)"
   ]
  },
  {
   "attachments": {},
   "cell_type": "markdown",
   "metadata": {},
   "source": [
    "Manipulating the EGFR model "
   ]
  },
  {
   "cell_type": "code",
   "execution_count": null,
   "metadata": {},
   "outputs": [
    {
     "data": {
      "image/png": "[encoded data removed]",
      "text/plain": [
       "<Figure size 600x400 with 1 Axes>"
      ]
     },
     "metadata": {},
     "output_type": "display_data"
    }
   ],
   "source": [
    "shankaran_model_EGFR.resetAll()\n",
    "count = 0\n",
    "for i in [1,2,5,7.6,10,20]: \n",
    "    shankaran_model_EGFR.resetToOrigin()\n",
    "    shankaran_model_EGFR.ke = 0.15*i\n",
    "    result = shankaran_model_EGFR.simulate(0, 120, 100,['time','Surface_complex'])\n",
    "    plt.plot(result[:,0],result[:,1], label = '%s ke = '%i) \n",
    "    count += 1\n",
    "\n",
    "plt.legend()\n",
    "plt.show()\n",
    "print(count)"
   ]
  },
  {
   "attachments": {},
   "cell_type": "markdown",
   "metadata": {},
   "source": [
    "The GPCR Model"
   ]
  },
  {
   "cell_type": "code",
   "execution_count": null,
   "metadata": {},
   "outputs": [
    {
     "ename": "Exception",
     "evalue": "Antimony: Error in model string, line 9:  syntax error, unexpected '-', expecting '+' or ';'",
     "output_type": "error",
     "traceback": [
      "\u001b[1;31m---------------------------------------------------------------------------\u001b[0m",
      "\u001b[1;31mException\u001b[0m                                 Traceback (most recent call last)",
      "Cell \u001b[1;32mIn[90], line 1\u001b[0m\n\u001b[1;32m----> 1\u001b[0m shankaran_model_GPCR \u001b[39m=\u001b[39m te\u001b[39m.\u001b[39;49mloada(\u001b[39m\"\"\"\u001b[39;49m\u001b[39m \u001b[39;49m\n\u001b[0;32m      2\u001b[0m \u001b[39mLigand_receptor -> Surface_complex; Ligand_receptor*kon\u001b[39;49m\n\u001b[0;32m      3\u001b[0m \n\u001b[0;32m      4\u001b[0m \u001b[39mSurface_complex -> Surface_complex_actived; Surface_complex*kfr\u001b[39;49m\n\u001b[0;32m      5\u001b[0m \u001b[39mSurface_complex_actived -> Surface_complex; Surface_complex_actived*krr\u001b[39;49m\n\u001b[0;32m      6\u001b[0m \n\u001b[0;32m      7\u001b[0m \u001b[39mSurface_complex_actived -> Surface_complex_degraded; Surface_complex_actived*kds\u001b[39;49m\n\u001b[0;32m      8\u001b[0m \n\u001b[0;32m      9\u001b[0m \u001b[39mSurface_complex_actived -> Active_G-protein; Surface_complex_actived*ka\u001b[39;49m\n\u001b[0;32m     10\u001b[0m \n\u001b[0;32m     11\u001b[0m \u001b[39mActive_Gprotein -> Inactive_Gprotein; Active_Gprotein*ki\u001b[39;49m\n\u001b[0;32m     12\u001b[0m \u001b[39mInactive_Gprotein -> Active_Gprotein; Inactive_Gprotein*ka\u001b[39;49m\n\u001b[0;32m     13\u001b[0m \n\u001b[0;32m     14\u001b[0m \u001b[39mkon = 84000000\u001b[39;49m\n\u001b[0;32m     15\u001b[0m \u001b[39mkoff = 0.37\u001b[39;49m\n\u001b[0;32m     16\u001b[0m \u001b[39mkfr = 10\u001b[39;49m\n\u001b[0;32m     17\u001b[0m \u001b[39mkrr = 10\u001b[39;49m\n\u001b[0;32m     18\u001b[0m \u001b[39mkds = 0.065\u001b[39;49m\n\u001b[0;32m     19\u001b[0m \u001b[39mka = 0.0000001\u001b[39;49m\n\u001b[0;32m     20\u001b[0m \u001b[39mki = 0.2\u001b[39;49m\n\u001b[0;32m     21\u001b[0m \n\u001b[0;32m     22\u001b[0m \u001b[39mLigand_receptor = 10612\u001b[39;49m\n\u001b[0;32m     23\u001b[0m \u001b[39mV = 0.0000000004\u001b[39;49m\n\u001b[0;32m     24\u001b[0m \u001b[39mRT = 55000\u001b[39;49m\n\u001b[0;32m     25\u001b[0m \u001b[39mGT = 100000\u001b[39;49m\n\u001b[0;32m     26\u001b[0m \u001b[39m\"\"\"\u001b[39;49m)\n",
      "File \u001b[1;32mc:\\Users\\Imoukhuede lab\\AppData\\Local\\Programs\\Python\\Python311\\Lib\\site-packages\\tellurium\\tellurium.py:522\u001b[0m, in \u001b[0;36mloada\u001b[1;34m(ant)\u001b[0m\n\u001b[0;32m    509\u001b[0m \u001b[39mdef\u001b[39;00m \u001b[39mloada\u001b[39m(ant):\n\u001b[0;32m    510\u001b[0m \u001b[39m    \u001b[39m\u001b[39m\"\"\"Load model from Antimony string.\u001b[39;00m\n\u001b[0;32m    511\u001b[0m \n\u001b[0;32m    512\u001b[0m \u001b[39m    See also: :func:`loadAntimonyModel`\u001b[39;00m\n\u001b[1;32m   (...)\u001b[0m\n\u001b[0;32m    520\u001b[0m \u001b[39m    :rtype: roadrunner.ExtendedRoadRunner\u001b[39;00m\n\u001b[0;32m    521\u001b[0m \u001b[39m    \"\"\"\u001b[39;00m\n\u001b[1;32m--> 522\u001b[0m     \u001b[39mreturn\u001b[39;00m loadAntimonyModel(ant)\n",
      "File \u001b[1;32mc:\\Users\\Imoukhuede lab\\AppData\\Local\\Programs\\Python\\Python311\\Lib\\site-packages\\tellurium\\tellurium.py:538\u001b[0m, in \u001b[0;36mloadAntimonyModel\u001b[1;34m(ant)\u001b[0m\n\u001b[0;32m    525\u001b[0m \u001b[39mdef\u001b[39;00m \u001b[39mloadAntimonyModel\u001b[39m(ant):\n\u001b[0;32m    526\u001b[0m \u001b[39m    \u001b[39m\u001b[39m\"\"\"Load Antimony model with tellurium.\u001b[39;00m\n\u001b[0;32m    527\u001b[0m \n\u001b[0;32m    528\u001b[0m \u001b[39m    See also: :func:`loada`\u001b[39;00m\n\u001b[1;32m   (...)\u001b[0m\n\u001b[0;32m    536\u001b[0m \u001b[39m    :rtype: roadrunner.ExtendedRoadRunner\u001b[39;00m\n\u001b[0;32m    537\u001b[0m \u001b[39m    \"\"\"\u001b[39;00m\n\u001b[1;32m--> 538\u001b[0m     sbml \u001b[39m=\u001b[39m antimonyToSBML(ant)\n\u001b[0;32m    539\u001b[0m     \u001b[39mreturn\u001b[39;00m roadrunner\u001b[39m.\u001b[39mRoadRunner(sbml)\n",
      "File \u001b[1;32mc:\\Users\\Imoukhuede lab\\AppData\\Local\\Programs\\Python\\Python311\\Lib\\site-packages\\tellurium\\tellurium.py:605\u001b[0m, in \u001b[0;36mantimonyToSBML\u001b[1;34m(ant)\u001b[0m\n\u001b[0;32m    603\u001b[0m \u001b[39melse\u001b[39;00m:\n\u001b[0;32m    604\u001b[0m     code \u001b[39m=\u001b[39m antimony\u001b[39m.\u001b[39mloadAntimonyString(ant)\n\u001b[1;32m--> 605\u001b[0m _checkAntimonyReturnCode(code)\n\u001b[0;32m    606\u001b[0m mid \u001b[39m=\u001b[39m antimony\u001b[39m.\u001b[39mgetMainModuleName()\n\u001b[0;32m    607\u001b[0m \u001b[39mreturn\u001b[39;00m antimony\u001b[39m.\u001b[39mgetSBMLString(mid)\n",
      "File \u001b[1;32mc:\\Users\\Imoukhuede lab\\AppData\\Local\\Programs\\Python\\Python311\\Lib\\site-packages\\tellurium\\tellurium.py:297\u001b[0m, in \u001b[0;36m_checkAntimonyReturnCode\u001b[1;34m(code)\u001b[0m\n\u001b[0;32m    290\u001b[0m \u001b[39m\u001b[39m\u001b[39m\"\"\" Helper for checking the antimony response code.\u001b[39;00m\n\u001b[0;32m    291\u001b[0m \u001b[39mRaises Exception if error in antimony.\u001b[39;00m\n\u001b[0;32m    292\u001b[0m \n\u001b[0;32m    293\u001b[0m \u001b[39m:param code: antimony response\u001b[39;00m\n\u001b[0;32m    294\u001b[0m \u001b[39m:type code: int\u001b[39;00m\n\u001b[0;32m    295\u001b[0m \u001b[39m\"\"\"\u001b[39;00m\n\u001b[0;32m    296\u001b[0m \u001b[39mif\u001b[39;00m code \u001b[39m<\u001b[39m \u001b[39m0\u001b[39m:\n\u001b[1;32m--> 297\u001b[0m     \u001b[39mraise\u001b[39;00m \u001b[39mException\u001b[39;00m(\u001b[39m'\u001b[39m\u001b[39mAntimony: \u001b[39m\u001b[39m{}\u001b[39;00m\u001b[39m'\u001b[39m\u001b[39m.\u001b[39mformat(antimony\u001b[39m.\u001b[39mgetLastError()))\n",
      "\u001b[1;31mException\u001b[0m: Antimony: Error in model string, line 9:  syntax error, unexpected '-', expecting '+' or ';'"
     ]
    }
   ],
   "source": [
    "# seperate ligand and receptor GPCR\n",
    "shankaran_model_GPCR = te.loada(\"\"\" \n",
    "Ligand + receptor -> Surface_complex; Ligand*receptor*kon\n",
    "Surface_complex -> Ligand + receptor; Surface_complex*koff\n",
    "\n",
    "Surface_complex -> Surface_complex_actived; Surface_complex*kfr\n",
    "Surface_complex_actived -> Surface_complex; Surface_complex_actived*krr\n",
    "\n",
    "Surface_complex_actived -> Surface_complex_degraded; Surface_complex_actived*kds\n",
    "\n",
    "Surface_complex_actived -> 2Active_Gprotein; Surface_complex_actived*ka\n",
    "\n",
    "Active_Gprotein -> Inactive_Gprotein; Active_Gprotein*ki\n",
    "Inactive_Gprotein -> Active_Gprotein; Inactive_Gprotein*ka\n",
    "\n",
    "Ligand = 0.01*Kd + 10612 \n",
    "receptor = RT\n",
    "Surface_complex = 0\n",
    "Active_Gprotein = 100000\n",
    "Inactive_Gprotein = Active_Gprotein\n",
    "\n",
    "kon = 84000000\n",
    "koff = 0.37\n",
    "Kd = koff/kon\n",
    "kfr = 10\n",
    "krr = 10\n",
    "kds = 0.065\n",
    "ka = 0.0000001\n",
    "ki = 0.2\n",
    "\n",
    "V = 0.0000000004\n",
    "RT = 55000 \n",
    "GT = 100000\n",
    "\"\"\")\n",
    "shankaran_model_GPCR.resetToOrigin()\n",
    "GPCR_model = shankaran_model_GPCR.simulate(0,120,100)\n",
    "shankaran_model_GPCR.plot()\n",
    "\n",
    "shankaran_model_GPCR.resetAll()\n",
    "for i in [10**-2, 10**-1, 10**0, 10**1, 10**2]:\n",
    "    shankaran_model_GPCR.resetToOrigin()\n",
    "    shankaran_model_GPCR.kds = 0.065*i\n",
    "    result = shankaran_model_GPCR.simulate(0, 250, 200,['time','Active_Gprotein'])\n",
    "    plt.plot(result[:,0],result[:,1], label = '%s kds = ' %i)\n",
    "\n",
    "plt.legend()\n",
    "plt.show()"
   ]
  },
  {
   "attachments": {},
   "cell_type": "markdown",
   "metadata": {},
   "source": [
    "Manipulate the model and reproduce the graphs for the GPCR"
   ]
  },
  {
   "cell_type": "code",
   "execution_count": null,
   "metadata": {},
   "outputs": [],
   "source": [
    "shankaran_model_GPCR.resetAll()\n",
    "for i in [10**-2, 10**-1, 10**0, 10**1, 10**2]:\n",
    "    shankaran_model_GPCR.resetToOrigin()\n",
    "    shankaran_model_GPCR.kds = 0.065*i\n",
    "    result = shankaran_model_GPCR.simulate(0, 250, 200,['time','Active_Gprotein'])\n",
    "    plt.plot(result[:,0],result[:,1], label = '%s kds = ' %i)\n",
    "\n",
    "plt.legend()\n",
    "plt.show()"
   ]
  }
 ],
 "metadata": {
  "kernelspec": {
   "display_name": "Python 3",
   "language": "python",
   "name": "python3"
  },
  "language_info": {
   "codemirror_mode": {
    "name": "ipython",
    "version": 3
   },
   "file_extension": ".py",
   "mimetype": "text/x-python",
   "name": "python",
   "nbconvert_exporter": "python",
   "pygments_lexer": "ipython3",
   "version": "3.11.0"
  },
  "orig_nbformat": 4,
  "vscode": {
   "interpreter": {
    "hash": "55b4ec3b1de4745d4d0bc52a98f917eca26cf669fe460c5ea602bd5130f820d0"
   }
  }
 },
 "nbformat": 4,
 "nbformat_minor": 2
}
